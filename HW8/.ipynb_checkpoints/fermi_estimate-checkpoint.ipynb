{
 "cells": [
  {
   "cell_type": "code",
   "execution_count": null,
   "id": "31d38ead",
   "metadata": {},
   "outputs": [],
   "source": [
    "import numpy as np \n",
    "\n",
    "m_h=1.6735575e-27\n",
    "k=1.380649e-23\n",
    "E_t=lambda T: 3/2*kT\n",
    "E_f=lambda ρ,m̄: ((3*np.pi**2*ħ**3*ρ/m̄)**(2/3))/(2*m̄)\n",
    "\n",
    "Ts=[1.6e7,2.7e7,1.1e8,1.1e7]\n",
    "Ρ=[1.5e5,5.1e7,7.7e6,1.1e9]\n",
    "m_sun=(6.6464731e-27+m_h)/2\n",
    "m_giant=m_h\n",
    "m_5_giant=m_h\n",
    "ms=[6.6464731e-27]"
   ]
  }
 ],
 "metadata": {
  "kernelspec": {
   "display_name": "Python 3 (ipykernel)",
   "language": "python",
   "name": "python3"
  },
  "language_info": {
   "codemirror_mode": {
    "name": "ipython",
    "version": 3
   },
   "file_extension": ".py",
   "mimetype": "text/x-python",
   "name": "python",
   "nbconvert_exporter": "python",
   "pygments_lexer": "ipython3",
   "version": "3.10.6"
  },
  "toc": {
   "base_numbering": 1,
   "nav_menu": {},
   "number_sections": true,
   "sideBar": true,
   "skip_h1_title": false,
   "title_cell": "Table of Contents",
   "title_sidebar": "Contents",
   "toc_cell": false,
   "toc_position": {},
   "toc_section_display": true,
   "toc_window_display": false
  }
 },
 "nbformat": 4,
 "nbformat_minor": 5
}
