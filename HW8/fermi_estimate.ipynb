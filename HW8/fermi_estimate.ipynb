{
 "cells": [
  {
   "cell_type": "code",
   "execution_count": 42,
   "id": "27b3fe6e",
   "metadata": {
    "ExecuteTime": {
     "end_time": "2023-04-04T02:05:16.479353Z",
     "start_time": "2023-04-04T02:05:16.472393Z"
    }
   },
   "outputs": [
    {
     "name": "stdout",
     "output_type": "stream",
     "text": [
      "[3.3135576000000005e-16, 5.591628450000001e-16, 2.2780708500000002e-15, 2.2780708500000003e-16]\n",
      "[1.3962792548111464e-20, 3.1025256406991743e-18, 8.796888326352482e-19, 2.993777477143858e-19]\n"
     ]
    }
   ],
   "source": [
    "import numpy as np \n",
    "\n",
    "ħ=1.054571817e-34 \n",
    "m_h=1.6735575e-27\n",
    "m_he=6.6464731e-27\n",
    "mp=1.67262192e-27\n",
    "k=1.380649e-23\n",
    "E_t=lambda T: (3/2)*(k*T)\n",
    "E_f=lambda Z,A,m̄: (ħ**2)/(2*m̄)*(3*(np.pi**2)*(Z/A)*(rho)/mp)**(2/3)\n",
    "\n",
    "Ts=[1.6e7,2.7e7,1.1e8,1.1e7]\n",
    "Ρ=[1.5e5,5.1e7,7.7e6,1.1e9]\n",
    "m_sun=(m_he+m_h)/2\n",
    "m_giant=m_h\n",
    "m_5_giant=m_h\n",
    "m_white_dwarf=(2.656e-26 +1.9944733e-26)/2\n",
    "ms=[m_sun,m_giant,m_5_giant,m_white_dwarf]\n",
    "\n",
    "k_e=list(map(E_t,(Ts)))\n",
    "fermi_energies=list(map(E_f,Ρ,ms))\n",
    "print(k_e)\n",
    "print(fermi_energies)"
   ]
  },
  {
   "cell_type": "code",
   "execution_count": 38,
   "id": "f8ac6b4e",
   "metadata": {
    "ExecuteTime": {
     "end_time": "2023-04-04T01:58:03.101035Z",
     "start_time": "2023-04-04T01:58:03.096419Z"
    }
   },
   "outputs": [
    {
     "data": {
      "text/plain": [
       "1.3962792548111464e-20"
      ]
     },
     "execution_count": 38,
     "metadata": {},
     "output_type": "execute_result"
    }
   ],
   "source": [
    "(3*np.pi**2*Ρ[0]/ms[0])**(2/3)*ħ**2/(2*ms[0])"
   ]
  },
  {
   "cell_type": "code",
   "execution_count": 41,
   "id": "e40d5285",
   "metadata": {
    "ExecuteTime": {
     "end_time": "2023-04-04T02:04:56.226287Z",
     "start_time": "2023-04-04T02:04:56.222444Z"
    }
   },
   "outputs": [
    {
     "data": {
      "text/plain": [
       "True"
      ]
     },
     "execution_count": 41,
     "metadata": {},
     "output_type": "execute_result"
    }
   ],
   "source": []
  },
  {
   "cell_type": "code",
   "execution_count": null,
   "id": "d5d13f2b",
   "metadata": {},
   "outputs": [],
   "source": []
  }
 ],
 "metadata": {
  "kernelspec": {
   "display_name": "Python 3 (ipykernel)",
   "language": "python",
   "name": "python3"
  },
  "language_info": {
   "codemirror_mode": {
    "name": "ipython",
    "version": 3
   },
   "file_extension": ".py",
   "mimetype": "text/x-python",
   "name": "python",
   "nbconvert_exporter": "python",
   "pygments_lexer": "ipython3",
   "version": "3.10.6"
  },
  "toc": {
   "base_numbering": 1,
   "nav_menu": {},
   "number_sections": true,
   "sideBar": true,
   "skip_h1_title": false,
   "title_cell": "Table of Contents",
   "title_sidebar": "Contents",
   "toc_cell": false,
   "toc_position": {},
   "toc_section_display": true,
   "toc_window_display": false
  }
 },
 "nbformat": 4,
 "nbformat_minor": 5
}
